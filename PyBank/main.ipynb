{
 "cells": [
  {
   "cell_type": "code",
   "execution_count": 67,
   "metadata": {},
   "outputs": [],
   "source": [
    "# Option 1: PyBank\n",
    "import os\n",
    "import csv\n",
    "\n",
    "input_data_1_csv = os.path.join(\"./\", \"budget_data_1.csv\")\n",
    "input_data_2_csv = os.path.join(\"./\", \"budget_data_2.csv\")\n",
    "\n",
    "files = [budget_data_1_csv, budget_data_2_csv]\n"
   ]
  },
  {
   "cell_type": "code",
   "execution_count": 68,
   "metadata": {},
   "outputs": [
    {
     "name": "stdout",
     "output_type": "stream",
     "text": [
      "--- Processing file: ./budget_data_1.csv---\n",
      "\n",
      "Financial Analysis\n",
      "----------------------------\n",
      "Total Months: 41\n",
      "Total Revenue: $18971412\n",
      "Average Revenue Change: $21559.365853658535\n",
      "Greatest Increase in Revenue: Feb-16 ($1837235)\n",
      "Greatest Decrease in Revenue: Aug-14 ($-1779747)\n",
      "\n",
      "Writing to ./budget_data_1_analysis.txt\n",
      "\n",
      "--- Processing file: ./budget_data_2.csv---\n",
      "\n",
      "Financial Analysis\n",
      "----------------------------\n",
      "Total Months: 86\n",
      "Total Revenue: $36973911\n",
      "Average Revenue Change: $5087.081395348837\n",
      "Greatest Increase in Revenue: Jul-2014 ($1645140)\n",
      "Greatest Decrease in Revenue: Jun-2014 ($-1947745)\n",
      "\n",
      "Writing to ./budget_data_2_analysis.txt\n",
      "\n"
     ]
    }
   ],
   "source": [
    "for file in files:\n",
    "    print(\"--- Processing file: \" + file + \"---\")\n",
    "    \n",
    "    #reset all data from the previous file processing\n",
    "    # Lists to store data\n",
    "    dates = []\n",
    "    tot_num_months = []\n",
    "    tot_revenue = 0\n",
    "    prev_rev = 0\n",
    "    chg_in_revenue = []\n",
    "    inc_in_revenue_date = \"\"\n",
    "    inc_in_revenue_amt = 0\n",
    "    dec_in_revenue_date = \"\"\n",
    "    dec_in_revenue_amt = 0\n",
    "    \n",
    "    with open(file, newline=\"\") as data_csvfile:\n",
    "        csvreader = csv.reader(data_csvfile, delimiter=\",\")\n",
    "        for row in csvreader:\n",
    "            #skip the first header row\n",
    "            if row[0] == \"Date\":\n",
    "                #print(\"Skipping header row\")\n",
    "                continue\n",
    "            # Get the Date\n",
    "            dates.append(row[0])\n",
    "            #Add the revenue\n",
    "            rev = int(row[1])\n",
    "            tot_revenue = tot_revenue + rev\n",
    "            \n",
    "            #cal the av change in revenue\n",
    "            chg_rev = rev - prev_rev\n",
    "            chg_in_revenue.append(chg_rev)            \n",
    "            #print(\"Rev = \"+ str(rev) + \"-- PrevRev = \" + str(prev_rev) + \"change =\" + str(rev - prev_rev))\n",
    "            if chg_rev > inc_in_revenue_amt:\n",
    "                inc_in_revenue_amt = chg_rev\n",
    "                inc_in_revenue_date = row[0]\n",
    "            if chg_rev < dec_in_revenue_amt:\n",
    "                dec_in_revenue_amt = chg_rev\n",
    "                dec_in_revenue_date = row[0]\n",
    "                \n",
    "            prev_rev = rev\n",
    "\n",
    "    output = (\n",
    "    f\"\\nFinancial Analysis\\n\"\n",
    "    f\"----------------------------\\n\"\n",
    "    f\"Total Months: {len(dates)}\\n\"\n",
    "    f\"Total Revenue: ${tot_revenue}\\n\"\n",
    "    f\"Average Revenue Change: ${sum(chg_in_revenue) / len(chg_in_revenue)}\\n\"\n",
    "    f\"Greatest Increase in Revenue: {inc_in_revenue_date} (${inc_in_revenue_amt})\\n\"\n",
    "    f\"Greatest Decrease in Revenue: {dec_in_revenue_date} (${dec_in_revenue_amt})\\n\")\n",
    "\n",
    "    #printing to the console\n",
    "    print(output)\n",
    "    \n",
    "    #write to output file - adding analysis to the file name\n",
    "    outputfilename = \".\" + file.split(\".\")[1] + \"_analysis.txt\"\n",
    "    print(\"Writing to \" + outputfilename + \"\\n\")\n",
    "    \n",
    "    with open(outputfilename, \"w\") as txt_file:\n",
    "        txt_file.write(output)\n"
   ]
  },
  {
   "cell_type": "code",
   "execution_count": null,
   "metadata": {},
   "outputs": [],
   "source": []
  }
 ],
 "metadata": {
  "kernelspec": {
   "display_name": "Python 3",
   "language": "python",
   "name": "python3"
  },
  "language_info": {
   "codemirror_mode": {
    "name": "ipython",
    "version": 3
   },
   "file_extension": ".py",
   "mimetype": "text/x-python",
   "name": "python",
   "nbconvert_exporter": "python",
   "pygments_lexer": "ipython3",
   "version": "3.6.4"
  }
 },
 "nbformat": 4,
 "nbformat_minor": 2
}
