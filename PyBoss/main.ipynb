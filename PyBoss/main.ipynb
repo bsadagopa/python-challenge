{
 "cells": [
  {
   "cell_type": "code",
   "execution_count": 138,
   "metadata": {},
   "outputs": [],
   "source": [
    "# Option3: PyBoss\n",
    "#import us_state_abbrev as state_codes\n",
    "import importlib\n",
    "import datetime as dt\n",
    "import re\n",
    "import os\n",
    "import csv\n",
    "\n",
    "# importing us_state_abbrev.py file containing all the US state code abbrevations\n",
    "state_codes = importlib.import_module(\"us_state_abbrev\")\n",
    "\n",
    "input_data_1_csv = os.path.join(\"./\", \"employee_data1.csv\")\n",
    "input_data_2_csv = os.path.join(\"./\", \"employee_data2.csv\")\n",
    "\n",
    "files = [input_data_1_csv, input_data_2_csv]\n",
    "#files = [input_data_1_csv]\n",
    "\n",
    "output_file_header = (f\"Emp ID,First Name,Last Name,DOB,SSN,State\\n\")\n",
    "\n",
    "i = 0"
   ]
  },
  {
   "cell_type": "code",
   "execution_count": 139,
   "metadata": {},
   "outputs": [
    {
     "name": "stdout",
     "output_type": "stream",
     "text": [
      "--- Processing file: ./employee_data1.csv---\n",
      "Writing to ./employee_data1_analysis.txt\n",
      "\n",
      "--- Processing file: ./employee_data2.csv---\n",
      "Writing to ./employee_data2_analysis.txt\n",
      "\n"
     ]
    }
   ],
   "source": [
    "for file in files:\n",
    "    print(\"--- Processing file: \" + file + \"---\")\n",
    "    with open(file, newline=\"\") as data_csvfile:\n",
    "        \n",
    "#        if(i == 100):\n",
    "#            break\n",
    "#        else:\n",
    "#            i += 1\n",
    "        \n",
    "        outputfilename = \".\" + file.split(\".\")[1] + \"_analysis.txt\"\n",
    "        print(\"Writing to \" + outputfilename + \"\\n\")\n",
    "        with open(outputfilename, \"w\") as txt_file:\n",
    "                       \n",
    "            #csvreader = csv.DictReader(data_csvfile)\n",
    "            csvreader = csv.reader(data_csvfile, delimiter=\",\")\n",
    "            for row in csvreader:\n",
    "\n",
    "                #print(row)           \n",
    "\n",
    "                # skip the first row , header\n",
    "                #and print the first row of the output file\n",
    "                if row[0] == \"Emp ID\":\n",
    "                    #print(\"Skipping header row\")\n",
    "                    txt_file.write(output_file_header)\n",
    "                    continue\n",
    "\n",
    "                ssn_exp = re.compile(r'^\\d{3}-\\d{2}-')\n",
    "                output = (\n",
    "                    f\"{row[0]},\" \n",
    "                    f\"{row[1].split()[0]},{row[1].split()[1]},\"\n",
    "                    f\"{(dt.datetime.strptime(row[2], '%Y-%m-%d')).strftime('%m/%d/%Y')},\"\n",
    "                    f\"{re.sub(ssn_exp, r'***-**-', row[3])},\"\n",
    "                    f\"{state_codes.us_state_abbrev.get(row[4])}\"\n",
    "                    f\"\\n\")\n",
    "\n",
    "                txt_file.write(output)\n",
    "                #print(output)\n",
    "            "
   ]
  }
 ],
 "metadata": {
  "kernelspec": {
   "display_name": "Python 3",
   "language": "python",
   "name": "python3"
  },
  "language_info": {
   "codemirror_mode": {
    "name": "ipython",
    "version": 3
   },
   "file_extension": ".py",
   "mimetype": "text/x-python",
   "name": "python",
   "nbconvert_exporter": "python",
   "pygments_lexer": "ipython3",
   "version": "3.6.4"
  }
 },
 "nbformat": 4,
 "nbformat_minor": 2
}
