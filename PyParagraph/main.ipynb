{
 "cells": [
  {
   "cell_type": "code",
   "execution_count": 70,
   "metadata": {},
   "outputs": [],
   "source": [
    "# Option4 : PyParagraph.py\n",
    "\n",
    "import re\n",
    "import os\n",
    "import csv\n",
    "\n",
    "input_data_1_txt = os.path.join(\"./\", \"paragraph_1.txt\")\n",
    "input_data_2_txt = os.path.join(\"./\", \"paragraph_2.txt\")\n",
    "\n",
    "files = [input_data_1_txt, input_data_2_txt]\n",
    "#files = [input_data_1_txt]"
   ]
  },
  {
   "cell_type": "code",
   "execution_count": 71,
   "metadata": {},
   "outputs": [
    {
     "name": "stdout",
     "output_type": "stream",
     "text": [
      "--- Processing file: ./paragraph_1.txt---\n",
      "\n",
      "Paragraph Analysis\n",
      "----------------------------\n",
      "Approximate Word Count: 133\n",
      "Approximate Sentence Count: 5\n",
      "Average Letter Count: 6.2481203007518795\n",
      "Average Sentence Length: 26.6\n",
      "\n",
      "--- Processing file: ./paragraph_2.txt---\n",
      "\n",
      "Paragraph Analysis\n",
      "----------------------------\n",
      "Approximate Word Count: 294\n",
      "Approximate Sentence Count: 11\n",
      "Average Letter Count: 5.08843537414966\n",
      "Average Sentence Length: 26.727272727272727\n",
      "\n"
     ]
    }
   ],
   "source": [
    "for file in files:\n",
    "    print(\"--- Processing file: \" + file + \"---\")\n",
    "    \n",
    "    words = re.findall(r'\\w+', open(file).read())\n",
    "    sentences = re.findall(r'\\.', open(file).read())\n",
    "    letters = re.findall(r'\\S', open(file).read())\n",
    "    \n",
    "    #print(\"Number of words = \" + str(len(words)))\n",
    "    #print(\"Number of Sentences = \" + str(len(sentences)))\n",
    "    #print(\"Average sentence Length = \" + str(len(words) / len(sentences)))  \n",
    "    #print(\"Average letter count PER word = \" + str(len(letters)/len(words)))\n",
    "            \n",
    "    output = (\n",
    "        f\"\\nParagraph Analysis\\n\"\n",
    "        f\"----------------------------\\n\"\n",
    "        f\"Approximate Word Count: {len(words)}\\n\"\n",
    "        f\"Approximate Sentence Count: {len(sentences)}\\n\"\n",
    "        f\"Average Letter Count: {len(letters)/len(words)}\\n\"\n",
    "        f\"Average Sentence Length: {len(words) / len(sentences)}\\n\"\n",
    "    )   \n",
    "    \n",
    "    print(output)"
   ]
  },
  {
   "cell_type": "code",
   "execution_count": null,
   "metadata": {},
   "outputs": [],
   "source": []
  }
 ],
 "metadata": {
  "kernelspec": {
   "display_name": "Python 3",
   "language": "python",
   "name": "python3"
  },
  "language_info": {
   "codemirror_mode": {
    "name": "ipython",
    "version": 3
   },
   "file_extension": ".py",
   "mimetype": "text/x-python",
   "name": "python",
   "nbconvert_exporter": "python",
   "pygments_lexer": "ipython3",
   "version": "3.6.4"
  }
 },
 "nbformat": 4,
 "nbformat_minor": 2
}
